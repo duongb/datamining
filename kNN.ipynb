{
  "nbformat": 4,
  "nbformat_minor": 0,
  "metadata": {
    "colab": {
      "provenance": []
    },
    "kernelspec": {
      "name": "python3",
      "display_name": "Python 3"
    },
    "language_info": {
      "name": "python"
    }
  },
  "cells": [
    {
      "cell_type": "code",
      "source": [
        "from matplotlib import pyplot as plt\n",
        "import numpy as np\n",
        "import math\n",
        "from collections import Counter"
      ],
      "metadata": {
        "id": "UtxU6p_QqOac"
      },
      "execution_count": null,
      "outputs": []
    },
    {
      "cell_type": "code",
      "source": [
        "def mahattan_distance(point1, point2):\n",
        "    return sum(abs(e1-e2) for e1, e2 in zip(point1,point2))\n",
        "\n",
        "def euclidean_distance(point1, point2):\n",
        "    return math.sqrt(sum((e1-e2)**2 for e1, e2 in zip(point1,point2)))"
      ],
      "metadata": {
        "id": "F5tG1ZmeqTTl"
      },
      "execution_count": null,
      "outputs": []
    },
    {
      "cell_type": "code",
      "execution_count": null,
      "metadata": {
        "id": "38G9uXhEqIEH"
      },
      "outputs": [],
      "source": [
        "def knn(data, query, k, distance_fn):\n",
        "    neighbor_distances_and_indices = []\n",
        "\n",
        "    # 1. Calculate the distance between the query example and the current example from the data.\n",
        "    for index, example in enumerate(data):\n",
        "        distance = distance_fn(example[:-1], query)\n",
        "\n",
        "        # 2. Add the distance and the index of the example to an ordered collection\n",
        "        neighbor_distances_and_indices.append((distance, index))\n",
        "\n",
        "    # 3. Sort the ordered collection of distances and indices from smallest to largest (in ascending order) by the distances\n",
        "    sorted_neighbor_distances_and_indices = sorted(neighbor_distances_and_indices)\n",
        "\n",
        "    # 4. Pick the first K entries from the sorted collection\n",
        "    k_nearest_distances_and_indices = sorted_neighbor_distances_and_indices[:k]\n",
        "\n",
        "    # 5. Get the labels of the selected K entries\n",
        "    k_nearest_labels = [data[i][-1] for distance, i in k_nearest_distances_and_indices]\n",
        "\n",
        "    return Counter(k_nearest_labels).most_common(1)[0][0]"
      ]
    },
    {
      "cell_type": "code",
      "source": [
        "def accuracy_score(y_true, y_pred):\n",
        "    assert len(y_true) == len(y_pred)\n",
        "    correct_predictions = sum(y_t == y_p for y_t, y_p in zip(y_true, y_pred))\n",
        "    total_predictions = len(y_true)\n",
        "    accuracy = correct_predictions / total_predictions\n",
        "    return accuracy"
      ],
      "metadata": {
        "id": "rMhlWyveV-WQ"
      },
      "execution_count": null,
      "outputs": []
    },
    {
      "cell_type": "code",
      "source": [
        "####### Bài 1 #########\n",
        "data_train = [[0.376000,0.488000,0],\n",
        "            [0.312000,0.544000,0],\n",
        "            [0.298000,0.624000,0],\n",
        "            [0.394000,0.600000,0],\n",
        "            [0.506000,0.512000,0],\n",
        "            [0.488000,0.334000,1],\n",
        "            [0.478000,0.398000,1],\n",
        "            [0.606000,0.366000,1],\n",
        "            [0.428000,0.294000,1],\n",
        "            [0.542000,0.252000,1]]\n",
        "\n",
        "data_test = [[0.550000,\t0.364000],\n",
        "            [0.558000, \t0.470000],\n",
        "            [0.456000, \t0.450000 ],\n",
        "            [0.450000, \t0.570000 ]]\n",
        "print(\"1NN\")\n",
        "for i in data_test:\n",
        "  print(i, knn(data_train, i, k = 1, distance_fn = mahattan_distance))\n",
        "\n",
        "print(\"3NN\")\n",
        "for i in data_test:\n",
        "  print(i, knn(data_train, i, k = 3, distance_fn = mahattan_distance))"
      ],
      "metadata": {
        "id": "Kq6zw43-qbUz",
        "colab": {
          "base_uri": "https://localhost:8080/"
        },
        "outputId": "b79f2ec4-0350-4517-9116-2a1440b93756"
      },
      "execution_count": null,
      "outputs": [
        {
          "output_type": "stream",
          "name": "stdout",
          "text": [
            "1NN\n",
            "[0.55, 0.364] 1\n",
            "[0.558, 0.47] 0\n",
            "[0.456, 0.45] 1\n",
            "[0.45, 0.57] 0\n",
            "3NN\n",
            "[0.55, 0.364] 1\n",
            "[0.558, 0.47] 1\n",
            "[0.456, 0.45] 0\n",
            "[0.45, 0.57] 0\n"
          ]
        }
      ]
    },
    {
      "cell_type": "code",
      "source": [
        "A = np.array(data_train)\n",
        "B = np.array(data_test)\n",
        "plt.scatter(A[:,0], A[:,1], c = A[:,2], marker=\"o\", s=40, edgecolor=\"k\")\n",
        "plt.scatter(B[:,0], B[:,1], marker=\"+\")\n",
        "plt.show()"
      ],
      "metadata": {
        "colab": {
          "base_uri": "https://localhost:8080/",
          "height": 430
        },
        "id": "DIrk65Ohwg0G",
        "outputId": "34033160-e58e-4b4b-ea8f-c0535aee627b"
      },
      "execution_count": null,
      "outputs": [
        {
          "output_type": "display_data",
          "data": {
            "text/plain": [
              "<Figure size 640x480 with 1 Axes>"
            ],
            "image/png": "[encoded data removed]"
          },
          "metadata": {}
        }
      ]
    },
    {
      "cell_type": "code",
      "source": [
        "#### Bài 2 #######\n",
        "!wget http://www.cit.ctu.edu.vn/~dtnghi/ml/data.tar.gz --no-check-certificate\n",
        "!tar -xvf data.tar.gz"
      ],
      "metadata": {
        "colab": {
          "base_uri": "https://localhost:8080/"
        },
        "id": "H8HiwIw0Iq7n",
        "outputId": "b8965784-9fe1-4441-fd5d-528a81631d31"
      },
      "execution_count": null,
      "outputs": [
        {
          "output_type": "stream",
          "name": "stdout",
          "text": [
            "--2024-01-14 15:19:14--  http://www.cit.ctu.edu.vn/~dtnghi/ml/data.tar.gz\n",
            "Resolving www.cit.ctu.edu.vn (www.cit.ctu.edu.vn)... 123.30.143.202\n",
            "Connecting to www.cit.ctu.edu.vn (www.cit.ctu.edu.vn)|123.30.143.202|:80... connected.\n",
            "HTTP request sent, awaiting response... 301 Moved Permanently\n",
            "Location: https://www.cit.ctu.edu.vn/~dtnghi/ml/data.tar.gz [following]\n",
            "--2024-01-14 15:19:14--  https://www.cit.ctu.edu.vn/~dtnghi/ml/data.tar.gz\n",
            "Connecting to www.cit.ctu.edu.vn (www.cit.ctu.edu.vn)|123.30.143.202|:443... connected.\n",
            "WARNING: cannot verify www.cit.ctu.edu.vn's certificate, issued by ‘CN=AlphaSSL CA - SHA256 - G4,O=GlobalSign nv-sa,C=BE’:\n",
            "  Unable to locally verify the issuer's authority.\n",
            "HTTP request sent, awaiting response... 200 OK\n",
            "Length: 31746068 (30M) [application/x-gzip]\n",
            "Saving to: ‘data.tar.gz’\n",
            "\n",
            "data.tar.gz         100%[===================>]  30.28M  6.70MB/s    in 4.5s    \n",
            "\n",
            "2024-01-14 15:19:20 (6.70 MB/s) - ‘data.tar.gz’ saved [31746068/31746068]\n",
            "\n",
            "data/\n",
            "data/optics/\n",
            "data/optics/opt.tst\n",
            "data/optics/opt.trn\n",
            "data/optics/des.txt\n",
            "data/faces/\n",
            "data/faces/data.tst\n",
            "data/faces/data.trn\n",
            "data/faces/des.txt\n",
            "data/leukemia/\n",
            "data/leukemia/ALLAML.trn\n",
            "data/leukemia/ALLAML.tst\n",
            "data/leukemia/des.txt\n",
            "data/letter/\n",
            "data/letter/let.trn\n",
            "data/letter/let.tst\n",
            "data/letter/des.txt\n",
            "data/ovarian/\n",
            "data/ovarian/ovarian.data\n",
            "data/ovarian/des.txt\n",
            "data/fp/\n",
            "data/fp/fp.trn\n",
            "data/fp/fp.tst\n",
            "data/fp/des.txt\n",
            "data/iris/\n",
            "data/iris/iris.trn\n",
            "data/iris/iris.tst\n",
            "data/iris/des.txt\n",
            "data/spam/\n",
            "data/spam/spam.data\n",
            "data/spam/des.txt\n"
          ]
        }
      ]
    },
    {
      "cell_type": "code",
      "source": [
        "def knn_classifier_manual(train_name, test_name, k):\n",
        "    # Load datasets\n",
        "    with open(train_name) as f:\n",
        "      train = np.loadtxt(f, delimiter=',')\n",
        "    with open(test_name) as f:\n",
        "      test = np.loadtxt(f, delimiter=',')\n",
        "\n",
        "    # Split datasets into features and labels\n",
        "    X_train = train\n",
        "    X_test, y_test = test[:,: -1], test[:,-1]\n",
        "\n",
        "    #Predict\n",
        "    predict = []\n",
        "    for i in X_test:\n",
        "      predict.append(knn(X_train, i, k, distance_fn = euclidean_distance))\n",
        "    return accuracy_score(y_test, predict)"
      ],
      "metadata": {
        "id": "rBd0zbFZZ-GY"
      },
      "execution_count": null,
      "outputs": []
    },
    {
      "cell_type": "code",
      "source": [
        "DIR = './data/iris/'\n",
        "#Datasets: iris, optics, letter, face, fp"
      ],
      "metadata": {
        "id": "ov8mpqnTb6Ui"
      },
      "execution_count": null,
      "outputs": []
    },
    {
      "cell_type": "code",
      "source": [
        "print('accuracy_score - iris: {}'.format(knn_classifier_manual(DIR + '/iris.trn', DIR + '/iris.tst', 1)))"
      ],
      "metadata": {
        "colab": {
          "base_uri": "https://localhost:8080/"
        },
        "id": "YUb3jyfvaMLG",
        "outputId": "f27234da-3604-421f-aaae-59c9f9dcb6a6"
      },
      "execution_count": null,
      "outputs": [
        {
          "output_type": "stream",
          "name": "stdout",
          "text": [
            "accuracy_score - iris: 0.94\n"
          ]
        }
      ]
    },
    {
      "cell_type": "code",
      "source": [
        "##### Bài vân tay dùng kNN"
      ],
      "metadata": {
        "id": "PQZBkn8tiGtf"
      },
      "execution_count": null,
      "outputs": []
    },
    {
      "cell_type": "code",
      "source": [
        "!wget https://www.cit.ctu.edu.vn/~dtnghi/fp107.zip --no-check-certificate\n",
        "!unzip /content/fp107.zip"
      ],
      "metadata": {
        "colab": {
          "base_uri": "https://localhost:8080/"
        },
        "id": "9dnoepyPUPS1",
        "outputId": "a8bcb937-b7f3-47b6-83c7-be759e8eecf3"
      },
      "execution_count": null,
      "outputs": [
        {
          "output_type": "stream",
          "name": "stdout",
          "text": [
            "--2024-01-14 15:19:52--  https://www.cit.ctu.edu.vn/~dtnghi/fp107.zip\n",
            "Resolving www.cit.ctu.edu.vn (www.cit.ctu.edu.vn)... 123.30.143.202\n",
            "Connecting to www.cit.ctu.edu.vn (www.cit.ctu.edu.vn)|123.30.143.202|:443... connected.\n",
            "WARNING: cannot verify www.cit.ctu.edu.vn's certificate, issued by ‘CN=AlphaSSL CA - SHA256 - G4,O=GlobalSign nv-sa,C=BE’:\n",
            "  Unable to locally verify the issuer's authority.\n",
            "HTTP request sent, awaiting response... 200 OK\n",
            "Length: 18401456 (18M) [application/zip]\n",
            "Saving to: ‘fp107.zip’\n",
            "\n",
            "fp107.zip           100%[===================>]  17.55M  5.94MB/s    in 3.0s    \n",
            "\n",
            "2024-01-14 15:19:56 (5.94 MB/s) - ‘fp107.zip’ saved [18401456/18401456]\n",
            "\n",
            "Archive:  /content/fp107.zip\n",
            "   creating: fp107/\n",
            "  inflating: fp107/des.txt           \n",
            "  inflating: fp107/fp107.trn         \n",
            "  inflating: fp107/fp107.tst         \n"
          ]
        }
      ]
    },
    {
      "cell_type": "code",
      "source": [
        "def knn_classifier_fingerprint(train_name, test_name, k):\n",
        "    # Load datasets\n",
        "    with open(train_name) as f:\n",
        "      train = np.loadtxt(f, delimiter=' ')\n",
        "    with open(test_name) as f:\n",
        "      test = np.loadtxt(f, delimiter=' ')\n",
        "\n",
        "    # Split datasets into features and labels\n",
        "    X_train = train\n",
        "    X_test, y_test = test[:,: -1], test[:,-1]\n",
        "\n",
        "    #Predict\n",
        "    predict = []\n",
        "    for i in X_test:\n",
        "      predict.append(knn(X_train, i, k, distance_fn = euclidean_distance))\n",
        "    return accuracy_score(y_test, predict)\n"
      ],
      "metadata": {
        "id": "wzuzHrb8VUJY"
      },
      "execution_count": null,
      "outputs": []
    },
    {
      "cell_type": "code",
      "source": [
        "DIR = '/content/fp107/'"
      ],
      "metadata": {
        "id": "tqr9UxUCUr2N"
      },
      "execution_count": null,
      "outputs": []
    },
    {
      "cell_type": "code",
      "source": [
        "knn_classifier_fingerprint(DIR + 'fp107.trn', DIR + 'fp107.tst', 1)"
      ],
      "metadata": {
        "colab": {
          "base_uri": "https://localhost:8080/"
        },
        "id": "F4uOCvmqUtoC",
        "outputId": "a507b1a7-46ba-4ac4-d2b2-952e0a11b4d5"
      },
      "execution_count": null,
      "outputs": [
        {
          "output_type": "execute_result",
          "data": {
            "text/plain": [
              "0.9812734082397003"
            ]
          },
          "metadata": {},
          "execution_count": 16
        }
      ]
    },
    {
      "cell_type": "code",
      "source": [
        "#Sử dụng thư viện sklearn\n",
        "from sklearn.neighbors import KNeighborsClassifier\n",
        "from sklearn.metrics import accuracy_score\n",
        "def knn_classifier(train_name, test_name, k):\n",
        "    # Load datasets\n",
        "    with open(train_name) as f:\n",
        "      train = np.loadtxt(f, delimiter=',')\n",
        "    with open(test_name) as f:\n",
        "      test = np.loadtxt(f, delimiter=',')\n",
        "\n",
        "    # Split datasets into features and labels\n",
        "    X_train, y_train = train[:,:-1], train[:,-1]\n",
        "    X_test, y_test = test[:,: -1], test[:,-1]\n",
        "\n",
        "    # Create KNN classifier\n",
        "    knn = KNeighborsClassifier(n_neighbors=k,  p=2, metric='minkowski')\n",
        "\n",
        "    # Train the classifier\n",
        "    knn.fit(X_train, y_train)\n",
        "\n",
        "    # Test the classifier\n",
        "    predictions = knn.predict(X_test)\n",
        "\n",
        "    # Calc accuracy\n",
        "    acc = accuracy_score(y_test, predictions)\n",
        "    return acc"
      ],
      "metadata": {
        "id": "pCQkp49F0JU4"
      },
      "execution_count": null,
      "outputs": []
    }
  ]
}